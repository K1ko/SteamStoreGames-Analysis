{
 "cells": [
  {
   "metadata": {},
   "cell_type": "markdown",
   "source": [
    "# Exploratory Data Analysis (EDA) of the Steam Store Games dataset\n",
    " ## Data consists of steam store games and their attributes\n",
    " ### Dataset was obtained from Kaggle (https://www.kaggle.com/nikdavis/steam-store-games)"
   ],
   "id": "3aaf960bc884f38c"
  },
  {
   "metadata": {},
   "cell_type": "markdown",
   "source": "#### Dataset includes over 27,000 games, the primary goal is to explore the dataset and identify any trends or patterns that may be present in the data . By doing so, we can gain a better understanding of the dataset and potentially identify any interesting insights which can be used for further analysis.",
   "id": "5b796efc82ebf63f"
  },
  {
   "metadata": {},
   "cell_type": "markdown",
   "source": "## Importing necessary libraries",
   "id": "c3ed4c0b0b68486d"
  },
  {
   "cell_type": "code",
   "id": "initial_id",
   "metadata": {
    "collapsed": true,
    "ExecuteTime": {
     "end_time": "2024-06-12T11:49:58.437825Z",
     "start_time": "2024-06-12T11:49:58.427143Z"
    }
   },
   "source": [
    "import pandas as pd #Data manipulation and analysis\n",
    "import numpy as np #Numerical computing\n",
    "import matplotlib.pyplot as plt #Data visualization\n",
    "import seaborn as sns #Data visualization on top of matplotlib"
   ],
   "outputs": [],
   "execution_count": 2
  },
  {
   "metadata": {},
   "cell_type": "markdown",
   "source": "",
   "id": "8f06a4b9f8049b8e"
  }
 ],
 "metadata": {
  "kernelspec": {
   "display_name": "Python 3",
   "language": "python",
   "name": "python3"
  },
  "language_info": {
   "codemirror_mode": {
    "name": "ipython",
    "version": 2
   },
   "file_extension": ".py",
   "mimetype": "text/x-python",
   "name": "python",
   "nbconvert_exporter": "python",
   "pygments_lexer": "ipython2",
   "version": "2.7.6"
  }
 },
 "nbformat": 4,
 "nbformat_minor": 5
}
